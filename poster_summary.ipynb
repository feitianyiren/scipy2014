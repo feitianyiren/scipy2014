{
 "metadata": {
  "name": "",
  "signature": "sha256:c21076dd7e6a83fcb22bc8e6bcc58afea59ab6f1706774b8e9d501b583d1a59e"
 },
 "nbformat": 3,
 "nbformat_minor": 0,
 "worksheets": [
  {
   "cells": [
    {
     "cell_type": "markdown",
     "metadata": {
      "slideshow": {
       "slide_type": "slide"
      }
     },
     "source": [
      "# Using Fatiando a Terra to solve inverse problems in geophysics"
     ]
    },
    {
     "cell_type": "markdown",
     "metadata": {},
     "source": [
      "<img src=\"https://raw.githubusercontent.com/leouieda/fatiando/master/doc/_static/logo.png\" align=\"right\">\n",
      "\n",
      "\n",
      "A library for geophysical modeling.\n",
      "\n",
      "Mostly potential fields (gravity and magnetics). \n",
      "\n",
      "Some seismics (more planned).\n",
      "\n",
      "Recent development: `fatiando.inversion`\n",
      "\n",
      "Here is how it works."
     ]
    },
    {
     "cell_type": "code",
     "collapsed": false,
     "input": [
      "import numpy as np\n",
      "from fatiando.gravmag import talwani\n",
      "from fatiando.mesher import Polygon\n",
      "from fatiando.inversion.base import Misfit\n",
      "\n",
      "class PolyBasin2D(Misfit):\n",
      "    def __init__(self, x, z, gz, height, npoints, density):\n",
      "        super(PolyBasin2D, self).__init__(\n",
      "            data=gz, nparams=npoints, islinear=False,\n",
      "            positional=dict(x=x, z=z), \n",
      "            model=dict(height=height, \n",
      "                       props={'density': density}))\n",
      "    \n",
      "    def p2vertices(self, p):\n",
      "        x, h = self.positional['x'], self.model['height']\n",
      "        n = self.nparams + 2\n",
      "        verts = np.empty((n, 2))\n",
      "        verts[:, 0] = np.linspace(x.min(), x.max(), n)[::-1]\n",
      "        verts[:, 1] = np.concatenate([[h], p, [h]])\n",
      "        return verts\n",
      "    \n",
      "    def _get_predicted(self, p):\n",
      "        x, z = self.positional['x'], self.positional['z']\n",
      "        verts = self.p2vertices(p)\n",
      "        poly = Polygon(verts, self.model['props'])\n",
      "        return talwani.gz(x, z, [poly])\n",
      "        \n",
      "    def _get_jacobian(self, p):    \n",
      "        x, z = self.positional['x'], self.positional['z']\n",
      "        verts = self.p2vertices(p)\n",
      "        delta = np.array([0, 10])\n",
      "        jac = np.zeros((self.ndata, self.nparams))\n",
      "        for i in xrange(self.nparams):\n",
      "            diff = Polygon([verts[i + 2], verts[i + 1] - delta, \n",
      "                            verts[i], verts[i + 1] + delta],\n",
      "                           self.model['props'])\n",
      "            jac[:, i] = talwani.gz(x, z, [diff])/(2 * delta[1])\n",
      "        return jac\n",
      "    \n",
      "    def fit(self):\n",
      "        super(PolyBasin2D, self).fit()\n",
      "        self._estimate = Polygon(self.p2vertices(self.p_), \n",
      "                                 self.model['props'])\n",
      "        return self"
     ],
     "language": "python",
     "metadata": {},
     "outputs": [],
     "prompt_number": 4
    },
    {
     "cell_type": "markdown",
     "metadata": {},
     "source": [
      "## Using on synthetic data"
     ]
    },
    {
     "cell_type": "code",
     "collapsed": false,
     "input": [
      "from fatiando import utils"
     ],
     "language": "python",
     "metadata": {},
     "outputs": [],
     "prompt_number": 6
    },
    {
     "cell_type": "code",
     "collapsed": false,
     "input": [
      "x = np.linspace(0, 100000, 100)\n",
      "z = -100*np.ones_like(x)\n",
      "xs = np.linspace(0, 100000, 100)[::-1]\n",
      "depths = (-1e-15*(xs - 50000)**4 + 8000 \n",
      "          - 3000*np.exp(-(xs - 70000)**2/(10000**2)))\n",
      "depths -= depths.min()\n",
      "density = -500\n",
      "model = Polygon(np.transpose([xs, depths]), {'density':density})\n",
      "gz = utils.contaminate(talwani.gz(x, z, [model]), 0.5, seed=0)"
     ],
     "language": "python",
     "metadata": {},
     "outputs": [],
     "prompt_number": 7
    },
    {
     "cell_type": "code",
     "collapsed": false,
     "input": [
      "%matplotlib inline\n",
      "from fatiando.vis import mpl"
     ],
     "language": "python",
     "metadata": {},
     "outputs": [],
     "prompt_number": 8
    },
    {
     "cell_type": "code",
     "collapsed": false,
     "input": [
      "mpl.figure(figsize=(8, 6))\n",
      "mpl.subplot(2, 1, 1)\n",
      "mpl.plot(x, gz, 'ok')\n",
      "mpl.subplot(2, 1, 2)\n",
      "mpl.polygon(model, '.-k')\n",
      "mpl.gca().invert_yaxis()"
     ],
     "language": "python",
     "metadata": {},
     "outputs": [
      {
       "metadata": {},
       "output_type": "display_data",
       "png": "[encoded data removed]",
       "text": [
        "<matplotlib.figure.Figure at 0x7fb973781210>"
       ]
      }
     ],
     "prompt_number": 12
    },
    {
     "cell_type": "code",
     "collapsed": false,
     "input": [],
     "language": "python",
     "metadata": {},
     "outputs": []
    }
   ],
   "metadata": {}
  }
 ]
}